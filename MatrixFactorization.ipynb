{
 "cells": [
  {
   "cell_type": "code",
   "execution_count": 1,
   "metadata": {
    "ExecuteTime": {
     "end_time": "2020-02-07T16:12:59.961437Z",
     "start_time": "2020-02-07T16:12:59.401283Z"
    }
   },
   "outputs": [],
   "source": [
    "import pandas as pd\n",
    "import numpy as np\n",
    "import os \n"
   ]
  },
  {
   "cell_type": "code",
   "execution_count": 2,
   "metadata": {
    "ExecuteTime": {
     "end_time": "2020-02-07T16:13:36.058034Z",
     "start_time": "2020-02-07T16:13:32.078014Z"
    }
   },
   "outputs": [],
   "source": [
    "train = pd.read_csv('./train.csv')"
   ]
  },
  {
   "cell_type": "code",
   "execution_count": 3,
   "metadata": {
    "ExecuteTime": {
     "end_time": "2020-02-07T16:13:36.099528Z",
     "start_time": "2020-02-07T16:13:36.083111Z"
    }
   },
   "outputs": [
    {
     "data": {
      "text/html": [
       "<div>\n",
       "<style scoped>\n",
       "    .dataframe tbody tr th:only-of-type {\n",
       "        vertical-align: middle;\n",
       "    }\n",
       "\n",
       "    .dataframe tbody tr th {\n",
       "        vertical-align: top;\n",
       "    }\n",
       "\n",
       "    .dataframe thead th {\n",
       "        text-align: right;\n",
       "    }\n",
       "</style>\n",
       "<table border=\"1\" class=\"dataframe\">\n",
       "  <thead>\n",
       "    <tr style=\"text-align: right;\">\n",
       "      <th></th>\n",
       "      <th>ROW_NUM</th>\n",
       "      <th>USER_ID</th>\n",
       "      <th>URL_PATH</th>\n",
       "      <th>CENSUS_KEY</th>\n",
       "    </tr>\n",
       "  </thead>\n",
       "  <tbody>\n",
       "    <tr>\n",
       "      <td>0</td>\n",
       "      <td>2749999</td>\n",
       "      <td>5150228a-ad62-4a14-9169-79e7979e1a5e_f13c5ba7-...</td>\n",
       "      <td>/en/school-learning/partnering-with-childs-sch...</td>\n",
       "      <td>79cfc7a3c90fa4fc002ec3978716f823078afc23</td>\n",
       "    </tr>\n",
       "    <tr>\n",
       "      <td>1</td>\n",
       "      <td>2749998</td>\n",
       "      <td>5150228a-ad62-4a14-9169-79e7979e1a5e_22e91c69-...</td>\n",
       "      <td>/en/learning-attention-issues/child-learning-d...</td>\n",
       "      <td>bc2e78278714e173c09535d7d0260e6299b9bd09</td>\n",
       "    </tr>\n",
       "    <tr>\n",
       "      <td>2</td>\n",
       "      <td>2749997</td>\n",
       "      <td>5150228a-ad62-4a14-9169-79e7979e1a5e_5fe37e08-...</td>\n",
       "      <td>/en/learning-attention-issues/child-learning-d...</td>\n",
       "      <td>07e692d47d057cb1d0409cf6e701f9be5cda3e36</td>\n",
       "    </tr>\n",
       "    <tr>\n",
       "      <td>3</td>\n",
       "      <td>2749995</td>\n",
       "      <td>5150228a-ad62-4a14-9169-79e7979e1a5e_54bec514-...</td>\n",
       "      <td>/en/school-learning/evaluations/evaluation-bas...</td>\n",
       "      <td>e9876bf61893ac62113e3ff3e516783c6810595a</td>\n",
       "    </tr>\n",
       "    <tr>\n",
       "      <td>4</td>\n",
       "      <td>2749994</td>\n",
       "      <td>5150228a-ad62-4a14-9169-79e7979e1a5e_b6504452-...</td>\n",
       "      <td>/en/learning-attention-issues/child-learning-d...</td>\n",
       "      <td>58a9cf6a144233ad9c286a2533872b2c3a9c1998</td>\n",
       "    </tr>\n",
       "  </tbody>\n",
       "</table>\n",
       "</div>"
      ],
      "text/plain": [
       "   ROW_NUM                                            USER_ID  \\\n",
       "0  2749999  5150228a-ad62-4a14-9169-79e7979e1a5e_f13c5ba7-...   \n",
       "1  2749998  5150228a-ad62-4a14-9169-79e7979e1a5e_22e91c69-...   \n",
       "2  2749997  5150228a-ad62-4a14-9169-79e7979e1a5e_5fe37e08-...   \n",
       "3  2749995  5150228a-ad62-4a14-9169-79e7979e1a5e_54bec514-...   \n",
       "4  2749994  5150228a-ad62-4a14-9169-79e7979e1a5e_b6504452-...   \n",
       "\n",
       "                                            URL_PATH  \\\n",
       "0  /en/school-learning/partnering-with-childs-sch...   \n",
       "1  /en/learning-attention-issues/child-learning-d...   \n",
       "2  /en/learning-attention-issues/child-learning-d...   \n",
       "3  /en/school-learning/evaluations/evaluation-bas...   \n",
       "4  /en/learning-attention-issues/child-learning-d...   \n",
       "\n",
       "                                 CENSUS_KEY  \n",
       "0  79cfc7a3c90fa4fc002ec3978716f823078afc23  \n",
       "1  bc2e78278714e173c09535d7d0260e6299b9bd09  \n",
       "2  07e692d47d057cb1d0409cf6e701f9be5cda3e36  \n",
       "3  e9876bf61893ac62113e3ff3e516783c6810595a  \n",
       "4  58a9cf6a144233ad9c286a2533872b2c3a9c1998  "
      ]
     },
     "execution_count": 3,
     "metadata": {},
     "output_type": "execute_result"
    }
   ],
   "source": [
    "train.head()"
   ]
  },
  {
   "cell_type": "code",
   "execution_count": null,
   "metadata": {},
   "outputs": [],
   "source": [
    "users = train.USER_ID.unique().tolist()\n",
    "url_path = train."
   ]
  }
 ],
 "metadata": {
  "kernelspec": {
   "display_name": "Python 3",
   "language": "python",
   "name": "python3"
  },
  "language_info": {
   "codemirror_mode": {
    "name": "ipython",
    "version": 3
   },
   "file_extension": ".py",
   "mimetype": "text/x-python",
   "name": "python",
   "nbconvert_exporter": "python",
   "pygments_lexer": "ipython3",
   "version": "3.7.4"
  },
  "toc": {
   "base_numbering": 1,
   "nav_menu": {},
   "number_sections": true,
   "sideBar": true,
   "skip_h1_title": false,
   "title_cell": "Table of Contents",
   "title_sidebar": "Contents",
   "toc_cell": false,
   "toc_position": {},
   "toc_section_display": true,
   "toc_window_display": false
  },
  "varInspector": {
   "cols": {
    "lenName": 16,
    "lenType": 16,
    "lenVar": 40
   },
   "kernels_config": {
    "python": {
     "delete_cmd_postfix": "",
     "delete_cmd_prefix": "del ",
     "library": "var_list.py",
     "varRefreshCmd": "print(var_dic_list())"
    },
    "r": {
     "delete_cmd_postfix": ") ",
     "delete_cmd_prefix": "rm(",
     "library": "var_list.r",
     "varRefreshCmd": "cat(var_dic_list()) "
    }
   },
   "types_to_exclude": [
    "module",
    "function",
    "builtin_function_or_method",
    "instance",
    "_Feature"
   ],
   "window_display": false
  }
 },
 "nbformat": 4,
 "nbformat_minor": 2
}
