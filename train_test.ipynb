{
 "cells": [
  {
   "cell_type": "code",
   "execution_count": 1,
   "metadata": {
    "ExecuteTime": {
     "end_time": "2020-02-07T16:23:47.056345Z",
     "start_time": "2020-02-07T16:23:46.539658Z"
    }
   },
   "outputs": [],
   "source": [
    "import pandas as pd\n",
    "import os"
   ]
  },
  {
   "cell_type": "code",
   "execution_count": 2,
   "metadata": {
    "ExecuteTime": {
     "end_time": "2020-02-07T16:23:47.218991Z",
     "start_time": "2020-02-07T16:23:47.209306Z"
    }
   },
   "outputs": [
    {
     "data": {
      "text/plain": [
       "['recommendation_example.py',\n",
       " 'requirements.txt',\n",
       " 'test.csv',\n",
       " '__pycache__',\n",
       " 'pageview.csv',\n",
       " 'recommendation.py',\n",
       " 'MatrixFactorization.ipynb',\n",
       " 'census.csv',\n",
       " 'content.csv',\n",
       " 'train.csv',\n",
       " '.ipynb_checkpoints',\n",
       " 'train_test.ipynb']"
      ]
     },
     "execution_count": 2,
     "metadata": {},
     "output_type": "execute_result"
    }
   ],
   "source": [
    "os.listdir()"
   ]
  },
  {
   "cell_type": "code",
   "execution_count": 12,
   "metadata": {
    "ExecuteTime": {
     "end_time": "2020-02-07T16:28:23.805796Z",
     "start_time": "2020-02-07T16:28:18.215742Z"
    }
   },
   "outputs": [
    {
     "name": "stderr",
     "output_type": "stream",
     "text": [
      "b'Skipping line 1322258: expected 4 fields, saw 5\\n'\n"
     ]
    }
   ],
   "source": [
    "pageview = pd.read_csv('./pageview.csv', error_bad_lines=False)"
   ]
  },
  {
   "cell_type": "code",
   "execution_count": 13,
   "metadata": {
    "ExecuteTime": {
     "end_time": "2020-02-07T16:28:26.644192Z",
     "start_time": "2020-02-07T16:28:26.636177Z"
    }
   },
   "outputs": [
    {
     "data": {
      "text/html": [
       "<div>\n",
       "<style scoped>\n",
       "    .dataframe tbody tr th:only-of-type {\n",
       "        vertical-align: middle;\n",
       "    }\n",
       "\n",
       "    .dataframe tbody tr th {\n",
       "        vertical-align: top;\n",
       "    }\n",
       "\n",
       "    .dataframe thead th {\n",
       "        text-align: right;\n",
       "    }\n",
       "</style>\n",
       "<table border=\"1\" class=\"dataframe\">\n",
       "  <thead>\n",
       "    <tr style=\"text-align: right;\">\n",
       "      <th></th>\n",
       "      <th>ROW_NUM</th>\n",
       "      <th>USER_ID</th>\n",
       "      <th>URL_PATH</th>\n",
       "      <th>CENSUS_KEY</th>\n",
       "    </tr>\n",
       "  </thead>\n",
       "  <tbody>\n",
       "    <tr>\n",
       "      <td>0</td>\n",
       "      <td>2750000</td>\n",
       "      <td>5150228a-ad62-4a14-9169-79e7979e1a5e_46ac5dea-...</td>\n",
       "      <td>/en/friends-feelings/common-challenges/self-co...</td>\n",
       "      <td>58a9cf6a144233ad9c286a2533872b2c3a9c1998</td>\n",
       "    </tr>\n",
       "    <tr>\n",
       "      <td>1</td>\n",
       "      <td>2749999</td>\n",
       "      <td>5150228a-ad62-4a14-9169-79e7979e1a5e_f13c5ba7-...</td>\n",
       "      <td>/en/school-learning/partnering-with-childs-sch...</td>\n",
       "      <td>79cfc7a3c90fa4fc002ec3978716f823078afc23</td>\n",
       "    </tr>\n",
       "    <tr>\n",
       "      <td>2</td>\n",
       "      <td>2749998</td>\n",
       "      <td>5150228a-ad62-4a14-9169-79e7979e1a5e_22e91c69-...</td>\n",
       "      <td>/en/learning-attention-issues/child-learning-d...</td>\n",
       "      <td>bc2e78278714e173c09535d7d0260e6299b9bd09</td>\n",
       "    </tr>\n",
       "    <tr>\n",
       "      <td>3</td>\n",
       "      <td>2749997</td>\n",
       "      <td>5150228a-ad62-4a14-9169-79e7979e1a5e_5fe37e08-...</td>\n",
       "      <td>/en/learning-attention-issues/child-learning-d...</td>\n",
       "      <td>07e692d47d057cb1d0409cf6e701f9be5cda3e36</td>\n",
       "    </tr>\n",
       "    <tr>\n",
       "      <td>4</td>\n",
       "      <td>2749996</td>\n",
       "      <td>5150228a-ad62-4a14-9169-79e7979e1a5e_f106f359-...</td>\n",
       "      <td>/en/learning-attention-issues/child-learning-d...</td>\n",
       "      <td>85e32c288526fc2b24b0db665254c7f2b433a14e</td>\n",
       "    </tr>\n",
       "  </tbody>\n",
       "</table>\n",
       "</div>"
      ],
      "text/plain": [
       "   ROW_NUM                                            USER_ID  \\\n",
       "0  2750000  5150228a-ad62-4a14-9169-79e7979e1a5e_46ac5dea-...   \n",
       "1  2749999  5150228a-ad62-4a14-9169-79e7979e1a5e_f13c5ba7-...   \n",
       "2  2749998  5150228a-ad62-4a14-9169-79e7979e1a5e_22e91c69-...   \n",
       "3  2749997  5150228a-ad62-4a14-9169-79e7979e1a5e_5fe37e08-...   \n",
       "4  2749996  5150228a-ad62-4a14-9169-79e7979e1a5e_f106f359-...   \n",
       "\n",
       "                                            URL_PATH  \\\n",
       "0  /en/friends-feelings/common-challenges/self-co...   \n",
       "1  /en/school-learning/partnering-with-childs-sch...   \n",
       "2  /en/learning-attention-issues/child-learning-d...   \n",
       "3  /en/learning-attention-issues/child-learning-d...   \n",
       "4  /en/learning-attention-issues/child-learning-d...   \n",
       "\n",
       "                                 CENSUS_KEY  \n",
       "0  58a9cf6a144233ad9c286a2533872b2c3a9c1998  \n",
       "1  79cfc7a3c90fa4fc002ec3978716f823078afc23  \n",
       "2  bc2e78278714e173c09535d7d0260e6299b9bd09  \n",
       "3  07e692d47d057cb1d0409cf6e701f9be5cda3e36  \n",
       "4  85e32c288526fc2b24b0db665254c7f2b433a14e  "
      ]
     },
     "execution_count": 13,
     "metadata": {},
     "output_type": "execute_result"
    }
   ],
   "source": [
    "pageview.head()"
   ]
  },
  {
   "cell_type": "code",
   "execution_count": 18,
   "metadata": {
    "ExecuteTime": {
     "end_time": "2020-02-07T16:30:16.146868Z",
     "start_time": "2020-02-07T16:30:08.126280Z"
    }
   },
   "outputs": [],
   "source": [
    "user_item_count = pageview[['USER_ID', 'URL_PATH']].groupby(['USER_ID']).count()"
   ]
  },
  {
   "cell_type": "code",
   "execution_count": 19,
   "metadata": {
    "ExecuteTime": {
     "end_time": "2020-02-07T16:30:16.183673Z",
     "start_time": "2020-02-07T16:30:16.179132Z"
    }
   },
   "outputs": [
    {
     "data": {
      "text/plain": [
       "(2330755, 1)"
      ]
     },
     "execution_count": 19,
     "metadata": {},
     "output_type": "execute_result"
    }
   ],
   "source": [
    "user_item_count.shape"
   ]
  },
  {
   "cell_type": "code",
   "execution_count": null,
   "metadata": {},
   "outputs": [],
   "source": []
  },
  {
   "cell_type": "code",
   "execution_count": 23,
   "metadata": {
    "ExecuteTime": {
     "end_time": "2020-02-07T16:33:29.715956Z",
     "start_time": "2020-02-07T16:33:29.694979Z"
    }
   },
   "outputs": [
    {
     "data": {
      "text/plain": [
       "(73490, 1)"
      ]
     },
     "execution_count": 23,
     "metadata": {},
     "output_type": "execute_result"
    }
   ],
   "source": [
    "user_item_count.loc[user_item_count.URL_PATH > 1].shape"
   ]
  },
  {
   "cell_type": "code",
   "execution_count": 24,
   "metadata": {
    "ExecuteTime": {
     "end_time": "2020-02-07T16:33:49.197482Z",
     "start_time": "2020-02-07T16:33:49.181908Z"
    }
   },
   "outputs": [],
   "source": [
    "user_id_with_more_than_1 = user_item_count.loc[user_item_count.URL_PATH > 1].index"
   ]
  },
  {
   "cell_type": "code",
   "execution_count": 27,
   "metadata": {
    "ExecuteTime": {
     "end_time": "2020-02-07T16:35:57.497243Z",
     "start_time": "2020-02-07T16:35:56.883948Z"
    }
   },
   "outputs": [],
   "source": [
    "pageview = pageview.loc[pageview.USER_ID.isin(user_id_with_more_than_1)]"
   ]
  },
  {
   "cell_type": "code",
   "execution_count": 28,
   "metadata": {
    "ExecuteTime": {
     "end_time": "2020-02-07T16:36:00.521059Z",
     "start_time": "2020-02-07T16:36:00.517171Z"
    }
   },
   "outputs": [
    {
     "data": {
      "text/plain": [
       "(492734, 4)"
      ]
     },
     "execution_count": 28,
     "metadata": {},
     "output_type": "execute_result"
    }
   ],
   "source": [
    "pageview.shape"
   ]
  },
  {
   "cell_type": "code",
   "execution_count": 29,
   "metadata": {
    "ExecuteTime": {
     "end_time": "2020-02-07T16:37:59.218114Z",
     "start_time": "2020-02-07T16:37:59.215233Z"
    }
   },
   "outputs": [],
   "source": [
    "from sklearn.model_selection import train_test_split"
   ]
  },
  {
   "cell_type": "code",
   "execution_count": 53,
   "metadata": {
    "ExecuteTime": {
     "end_time": "2020-02-07T17:00:00.438043Z",
     "start_time": "2020-02-07T17:00:00.434760Z"
    }
   },
   "outputs": [],
   "source": [
    "test = pageview.iloc[:int(pageview.shape[0] * 0.3)]"
   ]
  },
  {
   "cell_type": "code",
   "execution_count": 54,
   "metadata": {
    "ExecuteTime": {
     "end_time": "2020-02-07T17:00:08.655005Z",
     "start_time": "2020-02-07T17:00:08.581231Z"
    }
   },
   "outputs": [],
   "source": [
    "train = pageview.loc[~pageview.index.isin(test.index)]"
   ]
  },
  {
   "cell_type": "code",
   "execution_count": 57,
   "metadata": {
    "ExecuteTime": {
     "end_time": "2020-02-07T17:00:25.854082Z",
     "start_time": "2020-02-07T17:00:25.850097Z"
    }
   },
   "outputs": [
    {
     "data": {
      "text/plain": [
       "(344914, 4)"
      ]
     },
     "execution_count": 57,
     "metadata": {},
     "output_type": "execute_result"
    }
   ],
   "source": [
    "train.shape"
   ]
  },
  {
   "cell_type": "code",
   "execution_count": 58,
   "metadata": {
    "ExecuteTime": {
     "end_time": "2020-02-07T17:00:37.647208Z",
     "start_time": "2020-02-07T17:00:37.643443Z"
    }
   },
   "outputs": [
    {
     "data": {
      "text/plain": [
       "(147820, 4)"
      ]
     },
     "execution_count": 58,
     "metadata": {},
     "output_type": "execute_result"
    }
   ],
   "source": [
    "test.shape"
   ]
  },
  {
   "cell_type": "code",
   "execution_count": 55,
   "metadata": {
    "ExecuteTime": {
     "end_time": "2020-02-07T17:00:19.767282Z",
     "start_time": "2020-02-07T17:00:17.061944Z"
    }
   },
   "outputs": [],
   "source": [
    "train.to_csv('train.csv', index=False)\n",
    "test.to_csv('test.csv', index=False)"
   ]
  },
  {
   "cell_type": "code",
   "execution_count": 56,
   "metadata": {
    "ExecuteTime": {
     "end_time": "2020-02-07T17:00:21.524866Z",
     "start_time": "2020-02-07T17:00:21.425728Z"
    }
   },
   "outputs": [
    {
     "data": {
      "text/plain": [
       "((54272,), (25365,))"
      ]
     },
     "execution_count": 56,
     "metadata": {},
     "output_type": "execute_result"
    }
   ],
   "source": [
    "train.USER_ID.unique().shape, test.USER_ID.unique().shape"
   ]
  },
  {
   "cell_type": "code",
   "execution_count": 48,
   "metadata": {
    "ExecuteTime": {
     "end_time": "2020-02-07T16:48:07.788821Z",
     "start_time": "2020-02-07T16:48:07.613661Z"
    }
   },
   "outputs": [],
   "source": [
    "train_user_ids = train.USER_ID.unique()\n",
    "test_user_ids = test.USER_ID.unique()"
   ]
  },
  {
   "cell_type": "code",
   "execution_count": 50,
   "metadata": {
    "ExecuteTime": {
     "end_time": "2020-02-07T16:48:30.849955Z",
     "start_time": "2020-02-07T16:48:30.816990Z"
    }
   },
   "outputs": [
    {
     "data": {
      "text/plain": [
       "49353"
      ]
     },
     "execution_count": 50,
     "metadata": {},
     "output_type": "execute_result"
    }
   ],
   "source": [
    "len(set(train_user_ids) & set(test_user_ids))"
   ]
  },
  {
   "cell_type": "code",
   "execution_count": 32,
   "metadata": {
    "ExecuteTime": {
     "end_time": "2020-02-07T16:42:45.918592Z",
     "start_time": "2020-02-07T16:42:45.911633Z"
    }
   },
   "outputs": [
    {
     "data": {
      "text/plain": [
       "(         ROW_NUM                                            USER_ID  \\\n",
       " 560001   2189999  5150228a-ad62-4a14-9169-79e7979e1a5e_69fdc552-...   \n",
       " 1409710  1340289  5150228a-ad62-4a14-9169-79e7979e1a5e_811f18fe-...   \n",
       " 187622   2562378  5150228a-ad62-4a14-9169-79e7979e1a5e_a14c3702-...   \n",
       " 2350160   399839  5150228a-ad62-4a14-9169-79e7979e1a5e_036178c3-...   \n",
       " 409379   2340621  5150228a-ad62-4a14-9169-79e7979e1a5e_c4c306fa-...   \n",
       " \n",
       "                                                   URL_PATH  \\\n",
       " 560001                            /en/about/search-results   \n",
       " 1409710  /en/learning-attention-issues/child-learning-d...   \n",
       " 187622                            /en/about/search-results   \n",
       " 2350160  /en/school-learning/partnering-with-childs-sch...   \n",
       " 409379   /en/school-learning/evaluations/evaluation-basics   \n",
       " \n",
       "                                        CENSUS_KEY  \n",
       " 560001   fbb1062ec4e0c56a69ebe7fd285137af1837efaa  \n",
       " 1409710  02f0520ae2b001619719a00ef94db05249515e41  \n",
       " 187622   4ad289d33fdbc46366083e6ed6d8db5d9e60d17d  \n",
       " 2350160  d30d5ee78f0bcfe7308240ca363f768eb6a9e54f  \n",
       " 409379   b821f593d1973f931808807c4c4dcd28cecaaae0  , (344913, 4))"
      ]
     },
     "execution_count": 32,
     "metadata": {},
     "output_type": "execute_result"
    }
   ],
   "source": [
    "train.head(), train.shape"
   ]
  },
  {
   "cell_type": "code",
   "execution_count": 26,
   "metadata": {
    "ExecuteTime": {
     "end_time": "2020-02-07T15:08:57.294456Z",
     "start_time": "2020-02-07T15:08:55.788499Z"
    }
   },
   "outputs": [],
   "source": [
    "user_ids = pageview.USER_ID.unique().tolist()"
   ]
  },
  {
   "cell_type": "code",
   "execution_count": 29,
   "metadata": {
    "ExecuteTime": {
     "end_time": "2020-02-07T15:12:52.029421Z",
     "start_time": "2020-02-07T15:12:52.026772Z"
    }
   },
   "outputs": [],
   "source": [
    "size = len(user_ids)"
   ]
  },
  {
   "cell_type": "code",
   "execution_count": 28,
   "metadata": {
    "ExecuteTime": {
     "end_time": "2020-02-07T15:10:33.755037Z",
     "start_time": "2020-02-07T15:10:33.752461Z"
    }
   },
   "outputs": [],
   "source": [
    "import random"
   ]
  },
  {
   "cell_type": "code",
   "execution_count": 30,
   "metadata": {
    "ExecuteTime": {
     "end_time": "2020-02-07T15:13:06.180060Z",
     "start_time": "2020-02-07T15:13:04.475405Z"
    }
   },
   "outputs": [],
   "source": [
    "train_id = random.sample(user_ids, k= int(0.7 * size))"
   ]
  },
  {
   "cell_type": "code",
   "execution_count": 32,
   "metadata": {
    "ExecuteTime": {
     "end_time": "2020-02-07T15:15:28.083272Z",
     "start_time": "2020-02-07T15:15:24.461685Z"
    }
   },
   "outputs": [],
   "source": [
    "train_df = pageview.loc[pageview.USER_ID.isin(train_id)]\n",
    "test_df = pageview.loc[~pageview.USER_ID.isin(train_id)]"
   ]
  },
  {
   "cell_type": "code",
   "execution_count": 35,
   "metadata": {
    "ExecuteTime": {
     "end_time": "2020-02-07T15:16:59.970109Z",
     "start_time": "2020-02-07T15:16:45.409288Z"
    }
   },
   "outputs": [],
   "source": [
    "train_df.to_csv('train.csv', index=False)\n",
    "test_df.to_csv('test.csv', index=False)"
   ]
  },
  {
   "cell_type": "code",
   "execution_count": 36,
   "metadata": {
    "ExecuteTime": {
     "end_time": "2020-02-07T15:20:50.324181Z",
     "start_time": "2020-02-07T15:20:49.355935Z"
    }
   },
   "outputs": [
    {
     "data": {
      "text/plain": [
       "0"
      ]
     },
     "execution_count": 36,
     "metadata": {},
     "output_type": "execute_result"
    }
   ],
   "source": [
    "train_df.USER_ID.isin(test_df.USER_ID).sum()"
   ]
  },
  {
   "cell_type": "code",
   "execution_count": 33,
   "metadata": {
    "ExecuteTime": {
     "end_time": "2020-02-07T15:15:37.210510Z",
     "start_time": "2020-02-07T15:15:37.206205Z"
    }
   },
   "outputs": [
    {
     "data": {
      "text/plain": [
       "((2749999, 4), (1924819, 4), (825180, 4))"
      ]
     },
     "execution_count": 33,
     "metadata": {},
     "output_type": "execute_result"
    }
   ],
   "source": [
    "pageview.shape, train_df.shape, test_df.shape"
   ]
  },
  {
   "cell_type": "code",
   "execution_count": 34,
   "metadata": {
    "ExecuteTime": {
     "end_time": "2020-02-07T15:16:07.609591Z",
     "start_time": "2020-02-07T15:16:07.605294Z"
    }
   },
   "outputs": [
    {
     "data": {
      "text/plain": [
       "2749999"
      ]
     },
     "execution_count": 34,
     "metadata": {},
     "output_type": "execute_result"
    }
   ],
   "source": [
    "train_df.shape[0] + test_df.shape[0]"
   ]
  },
  {
   "cell_type": "code",
   "execution_count": 12,
   "metadata": {
    "ExecuteTime": {
     "end_time": "2020-02-07T14:34:10.902461Z",
     "start_time": "2020-02-07T14:34:10.640373Z"
    }
   },
   "outputs": [],
   "source": [
    "census = pd.read_csv('./census.csv', error_bad_lines=False)\n",
    "content = pd.read_csv('./content.csv', error_bad_lines=False)"
   ]
  },
  {
   "cell_type": "code",
   "execution_count": 17,
   "metadata": {
    "ExecuteTime": {
     "end_time": "2020-02-07T14:41:29.684249Z",
     "start_time": "2020-02-07T14:41:29.675429Z"
    }
   },
   "outputs": [
    {
     "data": {
      "text/html": [
       "<div>\n",
       "<style scoped>\n",
       "    .dataframe tbody tr th:only-of-type {\n",
       "        vertical-align: middle;\n",
       "    }\n",
       "\n",
       "    .dataframe tbody tr th {\n",
       "        vertical-align: top;\n",
       "    }\n",
       "\n",
       "    .dataframe thead th {\n",
       "        text-align: right;\n",
       "    }\n",
       "</style>\n",
       "<table border=\"1\" class=\"dataframe\">\n",
       "  <thead>\n",
       "    <tr style=\"text-align: right;\">\n",
       "      <th></th>\n",
       "      <th>ROW_NUM</th>\n",
       "      <th>USER_ID</th>\n",
       "      <th>URL_PATH</th>\n",
       "      <th>CENSUS_KEY</th>\n",
       "    </tr>\n",
       "  </thead>\n",
       "  <tbody>\n",
       "    <tr>\n",
       "      <td>0</td>\n",
       "      <td>2750000</td>\n",
       "      <td>5150228a-ad62-4a14-9169-79e7979e1a5e_46ac5dea-...</td>\n",
       "      <td>/en/friends-feelings/common-challenges/self-co...</td>\n",
       "      <td>58a9cf6a144233ad9c286a2533872b2c3a9c1998</td>\n",
       "    </tr>\n",
       "    <tr>\n",
       "      <td>1</td>\n",
       "      <td>2749999</td>\n",
       "      <td>5150228a-ad62-4a14-9169-79e7979e1a5e_f13c5ba7-...</td>\n",
       "      <td>/en/school-learning/partnering-with-childs-sch...</td>\n",
       "      <td>79cfc7a3c90fa4fc002ec3978716f823078afc23</td>\n",
       "    </tr>\n",
       "    <tr>\n",
       "      <td>2</td>\n",
       "      <td>2749998</td>\n",
       "      <td>5150228a-ad62-4a14-9169-79e7979e1a5e_22e91c69-...</td>\n",
       "      <td>/en/learning-attention-issues/child-learning-d...</td>\n",
       "      <td>bc2e78278714e173c09535d7d0260e6299b9bd09</td>\n",
       "    </tr>\n",
       "    <tr>\n",
       "      <td>3</td>\n",
       "      <td>2749997</td>\n",
       "      <td>5150228a-ad62-4a14-9169-79e7979e1a5e_5fe37e08-...</td>\n",
       "      <td>/en/learning-attention-issues/child-learning-d...</td>\n",
       "      <td>07e692d47d057cb1d0409cf6e701f9be5cda3e36</td>\n",
       "    </tr>\n",
       "    <tr>\n",
       "      <td>4</td>\n",
       "      <td>2749996</td>\n",
       "      <td>5150228a-ad62-4a14-9169-79e7979e1a5e_f106f359-...</td>\n",
       "      <td>/en/learning-attention-issues/child-learning-d...</td>\n",
       "      <td>85e32c288526fc2b24b0db665254c7f2b433a14e</td>\n",
       "    </tr>\n",
       "  </tbody>\n",
       "</table>\n",
       "</div>"
      ],
      "text/plain": [
       "   ROW_NUM                                            USER_ID  \\\n",
       "0  2750000  5150228a-ad62-4a14-9169-79e7979e1a5e_46ac5dea-...   \n",
       "1  2749999  5150228a-ad62-4a14-9169-79e7979e1a5e_f13c5ba7-...   \n",
       "2  2749998  5150228a-ad62-4a14-9169-79e7979e1a5e_22e91c69-...   \n",
       "3  2749997  5150228a-ad62-4a14-9169-79e7979e1a5e_5fe37e08-...   \n",
       "4  2749996  5150228a-ad62-4a14-9169-79e7979e1a5e_f106f359-...   \n",
       "\n",
       "                                            URL_PATH  \\\n",
       "0  /en/friends-feelings/common-challenges/self-co...   \n",
       "1  /en/school-learning/partnering-with-childs-sch...   \n",
       "2  /en/learning-attention-issues/child-learning-d...   \n",
       "3  /en/learning-attention-issues/child-learning-d...   \n",
       "4  /en/learning-attention-issues/child-learning-d...   \n",
       "\n",
       "                                 CENSUS_KEY  \n",
       "0  58a9cf6a144233ad9c286a2533872b2c3a9c1998  \n",
       "1  79cfc7a3c90fa4fc002ec3978716f823078afc23  \n",
       "2  bc2e78278714e173c09535d7d0260e6299b9bd09  \n",
       "3  07e692d47d057cb1d0409cf6e701f9be5cda3e36  \n",
       "4  85e32c288526fc2b24b0db665254c7f2b433a14e  "
      ]
     },
     "execution_count": 17,
     "metadata": {},
     "output_type": "execute_result"
    }
   ],
   "source": [
    "pageview.head()"
   ]
  },
  {
   "cell_type": "code",
   "execution_count": 20,
   "metadata": {
    "ExecuteTime": {
     "end_time": "2020-02-07T14:42:27.743033Z",
     "start_time": "2020-02-07T14:42:27.501699Z"
    }
   },
   "outputs": [
    {
     "data": {
      "text/plain": [
       "17372"
      ]
     },
     "execution_count": 20,
     "metadata": {},
     "output_type": "execute_result"
    }
   ],
   "source": [
    "len(pageview.CENSUS_KEY.unique().tolist())"
   ]
  },
  {
   "cell_type": "code",
   "execution_count": 25,
   "metadata": {
    "ExecuteTime": {
     "end_time": "2020-02-07T14:43:34.566488Z",
     "start_time": "2020-02-07T14:43:34.395026Z"
    }
   },
   "outputs": [
    {
     "data": {
      "text/plain": [
       "2718062"
      ]
     },
     "execution_count": 25,
     "metadata": {},
     "output_type": "execute_result"
    }
   ],
   "source": [
    "pageview.CENSUS_KEY.isin(census.CENSUS_KEY).sum()"
   ]
  },
  {
   "cell_type": "code",
   "execution_count": 21,
   "metadata": {
    "ExecuteTime": {
     "end_time": "2020-02-07T14:42:30.188551Z",
     "start_time": "2020-02-07T14:42:28.684439Z"
    }
   },
   "outputs": [
    {
     "data": {
      "text/plain": [
       "2330755"
      ]
     },
     "execution_count": 21,
     "metadata": {},
     "output_type": "execute_result"
    }
   ],
   "source": [
    "len(pageview.USER_ID.unique().tolist())"
   ]
  },
  {
   "cell_type": "code",
   "execution_count": 22,
   "metadata": {
    "ExecuteTime": {
     "end_time": "2020-02-07T14:42:38.762230Z",
     "start_time": "2020-02-07T14:42:38.758250Z"
    }
   },
   "outputs": [
    {
     "data": {
      "text/plain": [
       "(2749999, 4)"
      ]
     },
     "execution_count": 22,
     "metadata": {},
     "output_type": "execute_result"
    }
   ],
   "source": [
    "pageview.shape"
   ]
  },
  {
   "cell_type": "code",
   "execution_count": 13,
   "metadata": {
    "ExecuteTime": {
     "end_time": "2020-02-07T14:34:17.411384Z",
     "start_time": "2020-02-07T14:34:17.385459Z"
    }
   },
   "outputs": [
    {
     "data": {
      "text/html": [
       "<div>\n",
       "<style scoped>\n",
       "    .dataframe tbody tr th:only-of-type {\n",
       "        vertical-align: middle;\n",
       "    }\n",
       "\n",
       "    .dataframe tbody tr th {\n",
       "        vertical-align: top;\n",
       "    }\n",
       "\n",
       "    .dataframe thead th {\n",
       "        text-align: right;\n",
       "    }\n",
       "</style>\n",
       "<table border=\"1\" class=\"dataframe\">\n",
       "  <thead>\n",
       "    <tr style=\"text-align: right;\">\n",
       "      <th></th>\n",
       "      <th>NORTH_SOUTH</th>\n",
       "      <th>CENSUS_KEY</th>\n",
       "      <th>TIMEZONE</th>\n",
       "      <th>DIFF_FROM_US_MEAN_INCOME</th>\n",
       "      <th>PCT_TOTAL_URBAN_HH</th>\n",
       "      <th>PCT_TOTAL_RURAL_HH</th>\n",
       "      <th>PCT_BELOW_POVERTY_LEVEL</th>\n",
       "      <th>PCT_UNDER_5_YRS_AGE</th>\n",
       "      <th>PCT_SPEAKS_LANGUAGE_OTHER_THAN_ENGLISH</th>\n",
       "      <th>AVG_HH_SIZE</th>\n",
       "      <th>...</th>\n",
       "      <th>PCT_TOTAL_35_TO_44_BACHELORS</th>\n",
       "      <th>PCT_TOTAL_45_TO_64_BACHELORS</th>\n",
       "      <th>PCT_TOTAL_65_AND_ABOVE_BACHELORS</th>\n",
       "      <th>PCT_TOTAL_HISP_OR_LATINX</th>\n",
       "      <th>PCT_TOTAL_WHITE_NOT_HISP_OR_LATINX</th>\n",
       "      <th>PCT_TOTAL_WHITE_ALONE</th>\n",
       "      <th>PCT_TOTAL_BLACK_OR_AA_ALONE</th>\n",
       "      <th>PCT_TOTAL_AMERICAN_INDIAN_AND_ALASKA_NATIVE_ALONE</th>\n",
       "      <th>PCT_TOTAL_ASIAN_ALONE</th>\n",
       "      <th>PCT_TOTAL_NATIVE_HI_AND_PACIFIC_ISLANDER_ALONE</th>\n",
       "    </tr>\n",
       "  </thead>\n",
       "  <tbody>\n",
       "    <tr>\n",
       "      <td>0</td>\n",
       "      <td>NORTH</td>\n",
       "      <td>026fadfabedc8fb74b6541384357664505c7ce45</td>\n",
       "      <td>America/New York</td>\n",
       "      <td>-7187</td>\n",
       "      <td>0.205</td>\n",
       "      <td>-0.205</td>\n",
       "      <td>-5.3</td>\n",
       "      <td>-1.4</td>\n",
       "      <td>-4.5</td>\n",
       "      <td>-0.35</td>\n",
       "      <td>...</td>\n",
       "      <td>0.011</td>\n",
       "      <td>0.004</td>\n",
       "      <td>0.004</td>\n",
       "      <td>-0.110</td>\n",
       "      <td>0.264</td>\n",
       "      <td>0.197</td>\n",
       "      <td>-0.114</td>\n",
       "      <td>-0.008</td>\n",
       "      <td>-0.023</td>\n",
       "      <td>0.000</td>\n",
       "    </tr>\n",
       "    <tr>\n",
       "      <td>1</td>\n",
       "      <td>NORTH</td>\n",
       "      <td>bb0fce0a981352d43b40f5b844859ebdc246c705</td>\n",
       "      <td>America/New York</td>\n",
       "      <td>-979</td>\n",
       "      <td>0.069</td>\n",
       "      <td>-0.069</td>\n",
       "      <td>16.7</td>\n",
       "      <td>-3.2</td>\n",
       "      <td>-3.4</td>\n",
       "      <td>-0.13</td>\n",
       "      <td>...</td>\n",
       "      <td>-0.003</td>\n",
       "      <td>0.044</td>\n",
       "      <td>0.04</td>\n",
       "      <td>-0.113</td>\n",
       "      <td>0.119</td>\n",
       "      <td>0.045</td>\n",
       "      <td>-0.071</td>\n",
       "      <td>-0.002</td>\n",
       "      <td>0.063</td>\n",
       "      <td>-0.001</td>\n",
       "    </tr>\n",
       "    <tr>\n",
       "      <td>2</td>\n",
       "      <td>NORTH</td>\n",
       "      <td>423954bfe8bae9f4faa66eda54301e9aebff4c9a</td>\n",
       "      <td>America/New York</td>\n",
       "      <td>-28</td>\n",
       "      <td>-0.79</td>\n",
       "      <td>0.79</td>\n",
       "      <td>-7.7</td>\n",
       "      <td>1</td>\n",
       "      <td>-16.4</td>\n",
       "      <td>0</td>\n",
       "      <td>...</td>\n",
       "      <td>-0.008</td>\n",
       "      <td>-0.013</td>\n",
       "      <td>-0.019</td>\n",
       "      <td>-0.150</td>\n",
       "      <td>0.345</td>\n",
       "      <td>0.252</td>\n",
       "      <td>-0.121</td>\n",
       "      <td>-0.008</td>\n",
       "      <td>-0.052</td>\n",
       "      <td>-0.002</td>\n",
       "    </tr>\n",
       "    <tr>\n",
       "      <td>3</td>\n",
       "      <td>NORTH</td>\n",
       "      <td>c6a78684b871baa185bd835e6a5ee14790d04ad5</td>\n",
       "      <td>America/New York</td>\n",
       "      <td>-4524</td>\n",
       "      <td>0.092</td>\n",
       "      <td>-0.092</td>\n",
       "      <td>-4.6</td>\n",
       "      <td>-2.7</td>\n",
       "      <td>-12.6</td>\n",
       "      <td>-0.37</td>\n",
       "      <td>...</td>\n",
       "      <td>0.004</td>\n",
       "      <td>0.04</td>\n",
       "      <td>0.008</td>\n",
       "      <td>-0.123</td>\n",
       "      <td>0.275</td>\n",
       "      <td>0.196</td>\n",
       "      <td>-0.104</td>\n",
       "      <td>-0.008</td>\n",
       "      <td>-0.036</td>\n",
       "      <td>-0.002</td>\n",
       "    </tr>\n",
       "    <tr>\n",
       "      <td>4</td>\n",
       "      <td>NORTH</td>\n",
       "      <td>bce53624912fa698b3df3b3a7a11bf9ba6a0eeb3</td>\n",
       "      <td>America/New York</td>\n",
       "      <td>19681</td>\n",
       "      <td>0.185</td>\n",
       "      <td>-0.185</td>\n",
       "      <td>-10.1</td>\n",
       "      <td>-1.5</td>\n",
       "      <td>-12.9</td>\n",
       "      <td>0</td>\n",
       "      <td>...</td>\n",
       "      <td>0.01</td>\n",
       "      <td>0.058</td>\n",
       "      <td>0.027</td>\n",
       "      <td>-0.153</td>\n",
       "      <td>0.254</td>\n",
       "      <td>0.159</td>\n",
       "      <td>-0.077</td>\n",
       "      <td>-0.007</td>\n",
       "      <td>-0.008</td>\n",
       "      <td>-0.002</td>\n",
       "    </tr>\n",
       "  </tbody>\n",
       "</table>\n",
       "<p>5 rows × 21 columns</p>\n",
       "</div>"
      ],
      "text/plain": [
       "  NORTH_SOUTH                                CENSUS_KEY          TIMEZONE  \\\n",
       "0       NORTH  026fadfabedc8fb74b6541384357664505c7ce45  America/New York   \n",
       "1       NORTH  bb0fce0a981352d43b40f5b844859ebdc246c705  America/New York   \n",
       "2       NORTH  423954bfe8bae9f4faa66eda54301e9aebff4c9a  America/New York   \n",
       "3       NORTH  c6a78684b871baa185bd835e6a5ee14790d04ad5  America/New York   \n",
       "4       NORTH  bce53624912fa698b3df3b3a7a11bf9ba6a0eeb3  America/New York   \n",
       "\n",
       "  DIFF_FROM_US_MEAN_INCOME PCT_TOTAL_URBAN_HH PCT_TOTAL_RURAL_HH  \\\n",
       "0                    -7187              0.205             -0.205   \n",
       "1                     -979              0.069             -0.069   \n",
       "2                      -28              -0.79               0.79   \n",
       "3                    -4524              0.092             -0.092   \n",
       "4                    19681              0.185             -0.185   \n",
       "\n",
       "  PCT_BELOW_POVERTY_LEVEL PCT_UNDER_5_YRS_AGE  \\\n",
       "0                    -5.3                -1.4   \n",
       "1                    16.7                -3.2   \n",
       "2                    -7.7                   1   \n",
       "3                    -4.6                -2.7   \n",
       "4                   -10.1                -1.5   \n",
       "\n",
       "  PCT_SPEAKS_LANGUAGE_OTHER_THAN_ENGLISH AVG_HH_SIZE  ...  \\\n",
       "0                                   -4.5       -0.35  ...   \n",
       "1                                   -3.4       -0.13  ...   \n",
       "2                                  -16.4           0  ...   \n",
       "3                                  -12.6       -0.37  ...   \n",
       "4                                  -12.9           0  ...   \n",
       "\n",
       "  PCT_TOTAL_35_TO_44_BACHELORS PCT_TOTAL_45_TO_64_BACHELORS  \\\n",
       "0                        0.011                        0.004   \n",
       "1                       -0.003                        0.044   \n",
       "2                       -0.008                       -0.013   \n",
       "3                        0.004                         0.04   \n",
       "4                         0.01                        0.058   \n",
       "\n",
       "  PCT_TOTAL_65_AND_ABOVE_BACHELORS PCT_TOTAL_HISP_OR_LATINX  \\\n",
       "0                            0.004                   -0.110   \n",
       "1                             0.04                   -0.113   \n",
       "2                           -0.019                   -0.150   \n",
       "3                            0.008                   -0.123   \n",
       "4                            0.027                   -0.153   \n",
       "\n",
       "   PCT_TOTAL_WHITE_NOT_HISP_OR_LATINX  PCT_TOTAL_WHITE_ALONE  \\\n",
       "0                               0.264                  0.197   \n",
       "1                               0.119                  0.045   \n",
       "2                               0.345                  0.252   \n",
       "3                               0.275                  0.196   \n",
       "4                               0.254                  0.159   \n",
       "\n",
       "   PCT_TOTAL_BLACK_OR_AA_ALONE  \\\n",
       "0                       -0.114   \n",
       "1                       -0.071   \n",
       "2                       -0.121   \n",
       "3                       -0.104   \n",
       "4                       -0.077   \n",
       "\n",
       "   PCT_TOTAL_AMERICAN_INDIAN_AND_ALASKA_NATIVE_ALONE  PCT_TOTAL_ASIAN_ALONE  \\\n",
       "0                                             -0.008                 -0.023   \n",
       "1                                             -0.002                  0.063   \n",
       "2                                             -0.008                 -0.052   \n",
       "3                                             -0.008                 -0.036   \n",
       "4                                             -0.007                 -0.008   \n",
       "\n",
       "   PCT_TOTAL_NATIVE_HI_AND_PACIFIC_ISLANDER_ALONE  \n",
       "0                                           0.000  \n",
       "1                                          -0.001  \n",
       "2                                          -0.002  \n",
       "3                                          -0.002  \n",
       "4                                          -0.002  \n",
       "\n",
       "[5 rows x 21 columns]"
      ]
     },
     "execution_count": 13,
     "metadata": {},
     "output_type": "execute_result"
    }
   ],
   "source": [
    "census.head()"
   ]
  },
  {
   "cell_type": "code",
   "execution_count": 16,
   "metadata": {
    "ExecuteTime": {
     "end_time": "2020-02-07T14:41:17.575093Z",
     "start_time": "2020-02-07T14:41:17.570984Z"
    }
   },
   "outputs": [
    {
     "data": {
      "text/plain": [
       "(32674, 21)"
      ]
     },
     "execution_count": 16,
     "metadata": {},
     "output_type": "execute_result"
    }
   ],
   "source": [
    "census.shape"
   ]
  },
  {
   "cell_type": "code",
   "execution_count": 15,
   "metadata": {
    "ExecuteTime": {
     "end_time": "2020-02-07T14:34:34.085417Z",
     "start_time": "2020-02-07T14:34:34.073059Z"
    }
   },
   "outputs": [
    {
     "data": {
      "text/html": [
       "<div>\n",
       "<style scoped>\n",
       "    .dataframe tbody tr th:only-of-type {\n",
       "        vertical-align: middle;\n",
       "    }\n",
       "\n",
       "    .dataframe tbody tr th {\n",
       "        vertical-align: top;\n",
       "    }\n",
       "\n",
       "    .dataframe thead th {\n",
       "        text-align: right;\n",
       "    }\n",
       "</style>\n",
       "<table border=\"1\" class=\"dataframe\">\n",
       "  <thead>\n",
       "    <tr style=\"text-align: right;\">\n",
       "      <th></th>\n",
       "      <th>url</th>\n",
       "      <th>entry_type</th>\n",
       "      <th>title</th>\n",
       "      <th>article_content</th>\n",
       "      <th>meta_title</th>\n",
       "      <th>meta_description</th>\n",
       "      <th>meta_keywords</th>\n",
       "    </tr>\n",
       "  </thead>\n",
       "  <tbody>\n",
       "    <tr>\n",
       "      <td>0</td>\n",
       "      <td>/g26ftzdilh/bfunderstanding-dyslexia</td>\n",
       "      <td>Deep Dive Article</td>\n",
       "      <td>Understanding Dyslexia</td>\n",
       "      <td>Raising a child with dyslexia can stir up a lo...</td>\n",
       "      <td>Understanding Dyslexia in Children | Dyslexia ...</td>\n",
       "      <td>Have you asked yourself what is dyslexia? Lear...</td>\n",
       "      <td>dyslexia, what is dyslexia, signs of dyslexia,...</td>\n",
       "    </tr>\n",
       "    <tr>\n",
       "      <td>1</td>\n",
       "      <td>/g26ftzdilh/blazingly-fast-understanding-dyslexia</td>\n",
       "      <td>Deep Dive Article</td>\n",
       "      <td>Blazingly Fast Understanding Dyslexia</td>\n",
       "      <td>Raising a child with dyslexia can stir up a lo...</td>\n",
       "      <td>Entender la dislexia | ¿Qué es la discapacidad...</td>\n",
       "      <td>La dislexia es una condición real del cerebro ...</td>\n",
       "      <td>Definición de la dislexia, qué es la dislexia,...</td>\n",
       "    </tr>\n",
       "    <tr>\n",
       "      <td>2</td>\n",
       "      <td>/learning-attention-issues/getting-started/wha...</td>\n",
       "      <td>Deep Dive Article</td>\n",
       "      <td>Awareness Month 2018: Supporting the 1 in 5</td>\n",
       "      <td>When it comes to learning and attention issues...</td>\n",
       "      <td>Awareness Month 2018: Supporting the 1 in 5</td>\n",
       "      <td>Understood is celebrating ADHD and learning di...</td>\n",
       "      <td>learning disability awareness, adhd awareness,...</td>\n",
       "    </tr>\n",
       "    <tr>\n",
       "      <td>3</td>\n",
       "      <td>/learning-attention-issues/getting-started/wha...</td>\n",
       "      <td>Deep Dive Article</td>\n",
       "      <td>Helping Your Child, and You, #BeUnderstood</td>\n",
       "      <td>October is Learning Disabilities, ADHD, and Dy...</td>\n",
       "      <td>Helping Your Child, and You, #BeUnderstood</td>\n",
       "      <td>When kids with learning and attention issues a...</td>\n",
       "      <td>BeUnderstood, #BeUnderstood, Be Understood, Un...</td>\n",
       "    </tr>\n",
       "    <tr>\n",
       "      <td>4</td>\n",
       "      <td>/learning-attention-issues/child-learning-disa...</td>\n",
       "      <td>Deep Dive Article</td>\n",
       "      <td>Understanding ADHD</td>\n",
       "      <td>What is ADHD? ADHD is a common condition that ...</td>\n",
       "      <td>What Is ADHD</td>\n",
       "      <td>What is ADHD, and how does it affect kids? Use...</td>\n",
       "      <td>adhd, add, what is adhd, whats adhd, define ad...</td>\n",
       "    </tr>\n",
       "  </tbody>\n",
       "</table>\n",
       "</div>"
      ],
      "text/plain": [
       "                                                 url         entry_type  \\\n",
       "0               /g26ftzdilh/bfunderstanding-dyslexia  Deep Dive Article   \n",
       "1  /g26ftzdilh/blazingly-fast-understanding-dyslexia  Deep Dive Article   \n",
       "2  /learning-attention-issues/getting-started/wha...  Deep Dive Article   \n",
       "3  /learning-attention-issues/getting-started/wha...  Deep Dive Article   \n",
       "4  /learning-attention-issues/child-learning-disa...  Deep Dive Article   \n",
       "\n",
       "                                         title  \\\n",
       "0                       Understanding Dyslexia   \n",
       "1        Blazingly Fast Understanding Dyslexia   \n",
       "2  Awareness Month 2018: Supporting the 1 in 5   \n",
       "3   Helping Your Child, and You, #BeUnderstood   \n",
       "4                           Understanding ADHD   \n",
       "\n",
       "                                     article_content  \\\n",
       "0  Raising a child with dyslexia can stir up a lo...   \n",
       "1  Raising a child with dyslexia can stir up a lo...   \n",
       "2  When it comes to learning and attention issues...   \n",
       "3  October is Learning Disabilities, ADHD, and Dy...   \n",
       "4  What is ADHD? ADHD is a common condition that ...   \n",
       "\n",
       "                                          meta_title  \\\n",
       "0  Understanding Dyslexia in Children | Dyslexia ...   \n",
       "1  Entender la dislexia | ¿Qué es la discapacidad...   \n",
       "2        Awareness Month 2018: Supporting the 1 in 5   \n",
       "3         Helping Your Child, and You, #BeUnderstood   \n",
       "4                                       What Is ADHD   \n",
       "\n",
       "                                    meta_description  \\\n",
       "0  Have you asked yourself what is dyslexia? Lear...   \n",
       "1  La dislexia es una condición real del cerebro ...   \n",
       "2  Understood is celebrating ADHD and learning di...   \n",
       "3  When kids with learning and attention issues a...   \n",
       "4  What is ADHD, and how does it affect kids? Use...   \n",
       "\n",
       "                                       meta_keywords  \n",
       "0  dyslexia, what is dyslexia, signs of dyslexia,...  \n",
       "1  Definición de la dislexia, qué es la dislexia,...  \n",
       "2  learning disability awareness, adhd awareness,...  \n",
       "3  BeUnderstood, #BeUnderstood, Be Understood, Un...  \n",
       "4  adhd, add, what is adhd, whats adhd, define ad...  "
      ]
     },
     "execution_count": 15,
     "metadata": {},
     "output_type": "execute_result"
    }
   ],
   "source": [
    "content.head()"
   ]
  },
  {
   "cell_type": "code",
   "execution_count": 7,
   "metadata": {
    "ExecuteTime": {
     "end_time": "2020-02-07T14:29:51.577228Z",
     "start_time": "2020-02-07T14:29:51.572866Z"
    }
   },
   "outputs": [
    {
     "data": {
      "text/plain": [
       "[2750000,\n",
       " '5150228a-ad62-4a14-9169-79e7979e1a5e_46ac5dea-d31c-4661-878f-d7d165e56c43',\n",
       " '/en/friends-feelings/common-challenges/self-control/developing-coping-skills-5-ways-to-help-kids-who-struggle-with-self-control',\n",
       " '58a9cf6a144233ad9c286a2533872b2c3a9c1998']"
      ]
     },
     "execution_count": 7,
     "metadata": {},
     "output_type": "execute_result"
    }
   ],
   "source": [
    "df.iloc[0].tolist()"
   ]
  }
 ],
 "metadata": {
  "kernelspec": {
   "display_name": "Python 3",
   "language": "python",
   "name": "python3"
  },
  "language_info": {
   "codemirror_mode": {
    "name": "ipython",
    "version": 3
   },
   "file_extension": ".py",
   "mimetype": "text/x-python",
   "name": "python",
   "nbconvert_exporter": "python",
   "pygments_lexer": "ipython3",
   "version": "3.7.4"
  },
  "toc": {
   "base_numbering": 1,
   "nav_menu": {},
   "number_sections": true,
   "sideBar": true,
   "skip_h1_title": false,
   "title_cell": "Table of Contents",
   "title_sidebar": "Contents",
   "toc_cell": false,
   "toc_position": {},
   "toc_section_display": true,
   "toc_window_display": false
  },
  "varInspector": {
   "cols": {
    "lenName": 16,
    "lenType": 16,
    "lenVar": 40
   },
   "kernels_config": {
    "python": {
     "delete_cmd_postfix": "",
     "delete_cmd_prefix": "del ",
     "library": "var_list.py",
     "varRefreshCmd": "print(var_dic_list())"
    },
    "r": {
     "delete_cmd_postfix": ") ",
     "delete_cmd_prefix": "rm(",
     "library": "var_list.r",
     "varRefreshCmd": "cat(var_dic_list()) "
    }
   },
   "types_to_exclude": [
    "module",
    "function",
    "builtin_function_or_method",
    "instance",
    "_Feature"
   ],
   "window_display": false
  }
 },
 "nbformat": 4,
 "nbformat_minor": 2
}
